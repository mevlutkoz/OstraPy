{
 "cells": [
  {
   "cell_type": "markdown",
   "metadata": {},
   "source": [
    "**1: Basit bir sınıf oluşturun ve bu sınıfın 1 özelliği olsun.-name ( __init__ fonksiyonundan yararlanın) ve bu sınıfı örnek oluşturmak için kullanın.**"
   ]
  },
  {
   "cell_type": "markdown",
   "metadata": {},
   "source": [
    "**2: Sequence isimli bir sınıf oluşturun ve ona özellikler verin, bu özellikler 'sequence-name-GC_içeriği' olsun.**"
   ]
  },
  {
   "cell_type": "markdown",
   "metadata": {},
   "source": [
    "**3: Bu sınıfın bir alt sınıfını oluşturun ve RNA ismini verin, bu alt sınıfa verdiğiniz method ilk kodonun 'ATG'olup olmadığını kontrol etsin ve 'True ya da False' değeri dönsün.**"
   ]
  }
 ],
 "metadata": {
  "kernelspec": {
   "display_name": "Python 3",
   "language": "python",
   "name": "python3"
  },
  "language_info": {
   "codemirror_mode": {
    "name": "ipython",
    "version": 3
   },
   "file_extension": ".py",
   "mimetype": "text/x-python",
   "name": "python",
   "nbconvert_exporter": "python",
   "pygments_lexer": "ipython3",
   "version": "3.7.3"
  }
 },
 "nbformat": 4,
 "nbformat_minor": 4
}
