{
 "cells": [
  {
   "cell_type": "markdown",
   "metadata": {},
   "source": [
    "**1:Bu klasördeki tüm dosya adlarını listeleyin fakat yalnızca \".ipynb\" ile bitenleri yazdırın.**"
   ]
  },
  {
   "cell_type": "markdown",
   "metadata": {},
   "source": [
    "**2:Bir önceki soruda yazdığınız kodu düzenleyin ve output degerini ekrana değil \"result\" isimli dosyaya yazdırın.**"
   ]
  },
  {
   "cell_type": "markdown",
   "metadata": {},
   "source": [
    "**3:\"result\" isimli dosyanın adını \"result.txt\" yapınız.**"
   ]
  },
  {
   "cell_type": "markdown",
   "metadata": {},
   "source": [
    "**4:\"result_directory\" olacak şekilde dizin oluşturup, result.txt isimli dosyayı o dizine konumlandırın.**"
   ]
  },
  {
   "cell_type": "markdown",
   "metadata": {},
   "source": [
    "**5:subprocess.call kullanarak idle(veya spyder) başlatmayı deneyiniz.**"
   ]
  },
  {
   "cell_type": "markdown",
   "metadata": {},
   "source": [
    "**6:sys.argv kullanarak terminalden adınızı yazdırmayı deneyiniz.**"
   ]
  }
 ],
 "metadata": {
  "kernelspec": {
   "display_name": "Python 3",
   "language": "python",
   "name": "python3"
  },
  "language_info": {
   "codemirror_mode": {
    "name": "ipython",
    "version": 3
   },
   "file_extension": ".py",
   "mimetype": "text/x-python",
   "name": "python",
   "nbconvert_exporter": "python",
   "pygments_lexer": "ipython3",
   "version": "3.7.3"
  }
 },
 "nbformat": 4,
 "nbformat_minor": 4
}
