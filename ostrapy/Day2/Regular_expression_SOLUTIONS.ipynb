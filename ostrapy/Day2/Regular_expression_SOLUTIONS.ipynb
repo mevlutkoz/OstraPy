{
 "cells": [
  {
   "cell_type": "markdown",
   "metadata": {},
   "source": [
    "**1:Verilen dizide ki CTATA/T(A ya da T) olan motifi bulup 'XXXXX' ile değiştiriniz:\n",
    "'ACGTAGCTAGCTATAGGTATAAAGAGCTAGCTCTATTAGCAGCTAGCTGATCGATGCTATACTAGCTAGCA'**"
   ]
  },
  {
   "cell_type": "code",
   "execution_count": 2,
   "metadata": {},
   "outputs": [
    {
     "name": "stdout",
     "output_type": "stream",
     "text": [
      "ACGTAGCTAGXXXXXGGTATAAAGAGCTAGCTXXXXXAGCAGCTAGCTGATCGATGXXXXXCTAGCTAGCA\n"
     ]
    }
   ],
   "source": [
    "import re\n",
    "\n",
    "sequence = 'ACGTAGCTAGCTATAGGTATAAAGAGCTAGCTCTATTAGCAGCTAGCTGATCGATGCTATACTAGCTAGCA'\n",
    "print(re.sub('CTAT[AT]', 'XXXXX', sequence))"
   ]
  },
  {
   "cell_type": "markdown",
   "metadata": {},
   "source": [
    "**2:Bu cümle içinde geçen bütün 'all' ifadesini bulunuz: 'Find all occureces of 'all' in this sentence.**"
   ]
  },
  {
   "cell_type": "code",
   "execution_count": 4,
   "metadata": {},
   "outputs": [
    {
     "name": "stdout",
     "output_type": "stream",
     "text": [
      "(5, 8)\n",
      "(23, 26)\n"
     ]
    }
   ],
   "source": [
    "import re\n",
    "\n",
    "match = re.finditer('all', \"Find all occureces of 'all' in this sentence.\")\n",
    "for i in match:\n",
    "    print(i.span())"
   ]
  },
  {
   "cell_type": "markdown",
   "metadata": {},
   "source": [
    "**3:Verilen dizideki bütün potansiyel Glycine kodonlarını bulunuz.\n",
    "'TGGACGATGCGGGTACAGTCGATGCTAGGGTCGGGATGCTAGGCTGAGCTAGCTATCGATGCGGCGCGGGAGCAGCAGCGGGATCGGTAGTCATGGGC'**"
   ]
  },
  {
   "cell_type": "code",
   "execution_count": 8,
   "metadata": {},
   "outputs": [
    {
     "data": {
      "text/plain": [
       "['GCG', 'GCT', 'GCT', 'GCT', 'GCT', 'GCT', 'GCG', 'GCG', 'GCA', 'GCA', 'GCG']"
      ]
     },
     "execution_count": 8,
     "metadata": {},
     "output_type": "execute_result"
    }
   ],
   "source": [
    "sequence = 'TGGACGATGCGGGTACAGTCGATGCTAGGGTCGGGATGCTAGGCTGAGCTAGCTATCGATGCGGCGCGGGAGCAGCAGCGGGATCGGTAGTCATGGGC'\n",
    "re.findall('GC[ACTG]', sequence)"
   ]
  }
 ],
 "metadata": {
  "kernelspec": {
   "display_name": "Python 3",
   "language": "python",
   "name": "python3"
  },
  "language_info": {
   "codemirror_mode": {
    "name": "ipython",
    "version": 3
   },
   "file_extension": ".py",
   "mimetype": "text/x-python",
   "name": "python",
   "nbconvert_exporter": "python",
   "pygments_lexer": "ipython3",
   "version": "3.7.3"
  }
 },
 "nbformat": 4,
 "nbformat_minor": 4
}
