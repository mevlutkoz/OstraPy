{
 "cells": [
  {
   "cell_type": "markdown",
   "metadata": {},
   "source": [
    "**1. Bir dosya oluşturun ve içine 1 satır bir şeyler yazın.** "
   ]
  },
  {
   "cell_type": "markdown",
   "metadata": {},
   "source": [
    "**2. Bir dosya oluşturun ve içine 5 satırlık rastgele bir şeyler yazın.**"
   ]
  },
  {
   "cell_type": "markdown",
   "metadata": {},
   "source": [
    "**3. Alıştırma 2'deki dosyayı açın ve her satır için 'My line': ve satırın kendisini yazdırın.**"
   ]
  },
  {
   "cell_type": "markdown",
   "metadata": {},
   "source": [
    "**4. 'my_name' isimli bir değişken oluşturun ve isminizi bu değişkene atayın, 'favorite_sport' isimli bir değişken daha oluşturun ve en sevdiğiniz sporu bu değişkene atayın. Daha sonra benim adım 'my_name' ve favori sporum 'favorite_sport' olacak şekilde yeni bir dosyaya yazdırınız.**"
   ]
  },
  {
   "cell_type": "markdown",
   "metadata": {},
   "source": [
    "**5. Kendi oluşturduğunuz birkaç metni 4.soruda oluşturduğunuz dosyanın sonuna yazdırın.** "
   ]
  }
 ],
 "metadata": {
  "kernelspec": {
   "display_name": "Python 3",
   "language": "python",
   "name": "python3"
  },
  "language_info": {
   "codemirror_mode": {
    "name": "ipython",
    "version": 3
   },
   "file_extension": ".py",
   "mimetype": "text/x-python",
   "name": "python",
   "nbconvert_exporter": "python",
   "pygments_lexer": "ipython3",
   "version": "3.7.3"
  }
 },
 "nbformat": 4,
 "nbformat_minor": 4
}
