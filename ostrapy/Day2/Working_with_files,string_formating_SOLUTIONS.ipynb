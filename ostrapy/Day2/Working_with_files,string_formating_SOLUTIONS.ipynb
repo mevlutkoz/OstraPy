{
 "cells": [
  {
   "cell_type": "markdown",
   "metadata": {},
   "source": [
    "**1. Bir dosya oluşturun ve içine 1 satır bir şeyler yazın.** "
   ]
  },
  {
   "cell_type": "code",
   "execution_count": null,
   "metadata": {},
   "outputs": [],
   "source": [
    "with open('out.txt', 'w') as res:\n",
    "    res.write('blabla')"
   ]
  },
  {
   "cell_type": "markdown",
   "metadata": {},
   "source": [
    "**2. Bir dosya oluşturun ve içine 5 satırlık rastgele bir şeyler yazın.**"
   ]
  },
  {
   "cell_type": "code",
   "execution_count": null,
   "metadata": {},
   "outputs": [],
   "source": [
    "with open('out.txt', 'w') as res:\n",
    "    res.write(f'blabla\\nlalalal\\nnananna\\nmamama\\ntatata')"
   ]
  },
  {
   "cell_type": "markdown",
   "metadata": {},
   "source": [
    "**4. Alıştırma 2'deki dosyayı açın ve her satır için 'My line': ve satırın kendisini yazdırın.**"
   ]
  },
  {
   "cell_type": "code",
   "execution_count": null,
   "metadata": {},
   "outputs": [],
   "source": [
    "for line in open('out.txt'):\n",
    "    print('My line:', line)"
   ]
  },
  {
   "cell_type": "markdown",
   "metadata": {},
   "source": [
    "**5. 'my_name' isimli bir değişken oluşturun ve isminizi bu değişkene atayın, 'favorite_sport' isimli bir değişken daha oluşturun ve en sevdiğiniz sporu bu değişkene atayın. Daha sonra benim adım 'my_name' ve favori sporum 'favorite_sport' olacak şekilde yeni bir dosyaya yazdırınız.**"
   ]
  },
  {
   "cell_type": "code",
   "execution_count": 1,
   "metadata": {},
   "outputs": [],
   "source": [
    "my_name = \"David\"\n",
    "favorite_sport = \"boxing\"\n",
    "\n",
    "with open('out.txt', 'w') as res:\n",
    "    res.write(f'My name is {my_name} and my favorite sport is {favorite_sport}.')"
   ]
  },
  {
   "cell_type": "markdown",
   "metadata": {},
   "source": [
    "**6.  Kendi oluşturduğunuz birkaç metni 4.soruda oluşturduğunuz dosyanın sonuna yazdırın.** "
   ]
  },
  {
   "cell_type": "code",
   "execution_count": null,
   "metadata": {},
   "outputs": [],
   "source": [
    "with open('out.txt', 'a') as res:\n",
    "    res.write('some random text')"
   ]
  }
 ],
 "metadata": {
  "kernelspec": {
   "display_name": "Python 3",
   "language": "python",
   "name": "python3"
  },
  "language_info": {
   "codemirror_mode": {
    "name": "ipython",
    "version": 3
   },
   "file_extension": ".py",
   "mimetype": "text/x-python",
   "name": "python",
   "nbconvert_exporter": "python",
   "pygments_lexer": "ipython3",
   "version": "3.7.3"
  }
 },
 "nbformat": 4,
 "nbformat_minor": 4
}
