{
 "cells": [
  {
   "cell_type": "markdown",
   "metadata": {},
   "source": [
    "## Conditionals - Şartlı durumlar"
   ]
  },
  {
   "cell_type": "markdown",
   "metadata": {},
   "source": [
    "**1: Kodları düzenleyiniz**"
   ]
  },
  {
   "cell_type": "code",
   "execution_count": null,
   "metadata": {},
   "outputs": [],
   "source": [
    "if 5 > 2\n",
    "    print('That is True')"
   ]
  },
  {
   "cell_type": "code",
   "execution_count": null,
   "metadata": {},
   "outputs": [],
   "source": [
    "n = 10\n",
    "if n > 15:\n",
    "    print('n is bigger than 15')\n",
    "    else:\n",
    "        print('n is not bigger than 15')"
   ]
  },
  {
   "cell_type": "code",
   "execution_count": null,
   "metadata": {},
   "outputs": [],
   "source": [
    "if length('Python') == 6:\n",
    "    print('True True')"
   ]
  },
  {
   "cell_type": "code",
   "execution_count": null,
   "metadata": {},
   "outputs": [],
   "source": [
    "if 'th' in the 'Python':\n",
    "    print('Sure...\"th\" is there')"
   ]
  },
  {
   "cell_type": "markdown",
   "metadata": {},
   "source": [
    "**2. X tamsayı değişkenine bir tamsayı atayın. Eger x 10'dan büyükse \"x is bigger than 10\" degilse \" x is not bigger than 10\" çıktısı verecek şekilde kod yazınız.\"**"
   ]
  },
  {
   "cell_type": "markdown",
   "metadata": {},
   "source": [
    "**3. Yazdığınız kodu belirtilen şekilde çıktı vermesi için düzenleyiniz \"x is bigger than 10\", \"x is 10\" or \"x is lower than 10\". Kodunuzun doğru çalışıp çalışmadığını x'e başka değerler atayarak test ediniz**"
   ]
  },
  {
   "cell_type": "markdown",
   "metadata": {},
   "source": [
    "**4. X'e karakter değişkeni atayınız. Yazdığınız kod belirtilen şekilde çıktı vermeli, eger 'a' harfi değişkeninizin içindeyse: _'a' is in my string_ eğer değilse: _'a' is not in my string_.**"
   ]
  },
  {
   "cell_type": "markdown",
   "metadata": {},
   "source": [
    "## While loops"
   ]
  },
  {
   "cell_type": "markdown",
   "metadata": {},
   "source": [
    "**1. X değişkenini 0 olarak atayın ve her döngüde x'i 15'e kadar 1'er 1'er artırmak için while döngüsünü kullanın. Her döngüde x degerini yazdırın.**"
   ]
  },
  {
   "cell_type": "markdown",
   "metadata": {},
   "source": [
    "**2. Yukarıda yazmış olduğunuz kodu eğer X'değeriniz 15'ten büyük ise: \"x is no longer lower than 15\" çıktısı verecek şekilde düzenleyiniz. **"
   ]
  },
  {
   "cell_type": "markdown",
   "metadata": {},
   "source": [
    "## For loops"
   ]
  },
  {
   "cell_type": "markdown",
   "metadata": {},
   "source": [
    "**1. Adınızdaki her harfi yazdırmak için for döngüsünü kullanın.**"
   ]
  },
  {
   "cell_type": "markdown",
   "metadata": {},
   "source": [
    "**2. En az 5 isim içeren bir liste hazırlayın. Listedeki her adı kendisine karşılık gelen uzunlukta yazdırmak için for dönğüsü kullanın.**"
   ]
  },
  {
   "cell_type": "markdown",
   "metadata": {},
   "source": [
    "## Combinations"
   ]
  },
  {
   "cell_type": "markdown",
   "metadata": {},
   "source": [
    "**1. En az 5 isim içeren bir liste hazırlayın. Eğer ismin içerisinde a harfi varsa ismi ekrana yazdırılacak şekilde kod bloğu oluşturunuz.**"
   ]
  }
 ],
 "metadata": {
  "kernelspec": {
   "display_name": "Python 3",
   "language": "python",
   "name": "python3"
  },
  "language_info": {
   "codemirror_mode": {
    "name": "ipython",
    "version": 3
   },
   "file_extension": ".py",
   "mimetype": "text/x-python",
   "name": "python",
   "nbconvert_exporter": "python",
   "pygments_lexer": "ipython3",
   "version": "3.7.3"
  }
 },
 "nbformat": 4,
 "nbformat_minor": 4
}
