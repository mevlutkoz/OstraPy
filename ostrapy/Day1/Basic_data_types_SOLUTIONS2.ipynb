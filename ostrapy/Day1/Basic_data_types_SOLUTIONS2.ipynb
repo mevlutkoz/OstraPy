{
 "cells": [
  {
   "cell_type": "markdown",
   "metadata": {},
   "source": [
    "**1: Aşağıdaki değişkenleri yükleyiniz.**"
   ]
  },
  {
   "cell_type": "code",
   "execution_count": 2,
   "metadata": {
    "collapsed": true,
    "jupyter": {
     "outputs_hidden": true
    }
   },
   "outputs": [],
   "source": [
    "ncbi_list1 =  ['NP_001191615.1', 'NP_571131.1', 'XP_014388588.1', 'XP_011213888.1', 'XP_015485235.1']\n",
    "ncbi_list2 =  ['NP_001191615.1', 'NP_571131.1',    'XP_002920166.1', 'XP_014388588.1', 'XP_011213888.1']\n",
    "partial_insulin = 'MALWMRLLPLLALLALWGPDPAAAFVNQHLCGSHLVEALYLVCGERGFFYTPKTRREAEDLQVGQVELGGGPGAGSLQPLA'"
   ]
  },
  {
   "cell_type": "markdown",
   "metadata": {},
   "source": [
    "**2: Verilen numaralardan ncbi_list2 de bulunan ama ncbi_list1 de bulunmayan ya da tam tersi durumda olan numaraları yazdırınız.**"
   ]
  },
  {
   "cell_type": "code",
   "execution_count": 30,
   "metadata": {},
   "outputs": [
    {
     "name": "stdout",
     "output_type": "stream",
     "text": [
      "{'XP_002920166.1'}\n",
      "{'XP_015485235.1'}\n"
     ]
    }
   ],
   "source": [
    "print(set(ncbi_list2) - set(ncbi_list1))\n",
    "print(set(ncbi_list1) - set(ncbi_list2))"
   ]
  },
  {
   "cell_type": "code",
   "execution_count": 31,
   "metadata": {},
   "outputs": [
    {
     "data": {
      "text/plain": [
       "{'XP_002920166.1', 'XP_015485235.1'}"
      ]
     },
     "execution_count": 31,
     "metadata": {},
     "output_type": "execute_result"
    }
   ],
   "source": [
    "# OR even better\n",
    "set(ncbi_list1).symmetric_difference(ncbi_list2)  "
   ]
  },
  {
   "cell_type": "markdown",
   "metadata": {},
   "source": [
    "**3: İki listede de ortak olan numaralar hanğileridir?**"
   ]
  },
  {
   "cell_type": "code",
   "execution_count": 32,
   "metadata": {},
   "outputs": [
    {
     "data": {
      "text/plain": [
       "{'NP_001191615.1', 'NP_571131.1', 'XP_011213888.1', 'XP_014388588.1'}"
      ]
     },
     "execution_count": 32,
     "metadata": {},
     "output_type": "execute_result"
    }
   ],
   "source": [
    "set(ncbi_list1) & set(ncbi_list2)"
   ]
  },
  {
   "cell_type": "markdown",
   "metadata": {},
   "source": [
    "**4: partial_insulin dizisi içerisindeki her bir amino acidin kaç kere bulunduğunu hesaplayınız. İpucu - Collection isimli modülde bu amaç için kullanılan bir fonksiyon var**"
   ]
  },
  {
   "cell_type": "code",
   "execution_count": 33,
   "metadata": {},
   "outputs": [
    {
     "data": {
      "text/plain": [
       "Counter({'A': 10,\n",
       "         'C': 2,\n",
       "         'D': 2,\n",
       "         'E': 5,\n",
       "         'F': 3,\n",
       "         'G': 10,\n",
       "         'H': 2,\n",
       "         'K': 1,\n",
       "         'L': 16,\n",
       "         'M': 2,\n",
       "         'N': 1,\n",
       "         'P': 6,\n",
       "         'Q': 4,\n",
       "         'R': 4,\n",
       "         'S': 2,\n",
       "         'T': 2,\n",
       "         'V': 5,\n",
       "         'W': 2,\n",
       "         'Y': 2})"
      ]
     },
     "execution_count": 33,
     "metadata": {},
     "output_type": "execute_result"
    }
   ],
   "source": [
    "from collections import Counter\n",
    "Counter(partial_insulin)"
   ]
  },
  {
   "cell_type": "markdown",
   "metadata": {},
   "source": [
    "**5: Collection modülü içerisinden defaultdict'i kullanarak bir sözlük oluşturun, bu sözlügün key degerleri ncbi_list1 içerisindeki degerler olacak ve value değerleri toplam sayısı '1' (ncbi numaraları listesinin ilk ögesi) ve ncbi numara içerisindeki toplam sayı '2'**"
   ]
  },
  {
   "cell_type": "code",
   "execution_count": 19,
   "metadata": {},
   "outputs": [
    {
     "name": "stdout",
     "output_type": "stream",
     "text": [
      "defaultdict(<class 'list'>, {'NP_001191615.1': [5, 0], 'NP_571131.1': [4, 0], 'XP_014388588.1': [2, 0], 'XP_011213888.1': [4, 1], 'XP_015485235.1': [2, 1]})\n"
     ]
    }
   ],
   "source": [
    "from collections import defaultdict\n",
    "final_dict = defaultdict(dict)\n",
    "for name in ncbi_list1:\n",
    "    final_dict[name].append(name.count('1'))\n",
    "    final_dict[name].append(name.count('2'))\n",
    "print(final_dict)"
   ]
  },
  {
   "cell_type": "markdown",
   "metadata": {},
   "source": [
    "**6: Fasta başlığı verilen organizmanın ismini alınız: >Neodam_TRINITY_DN9413_c0_g1_i1|m.6780@Archaea@Elongation factor 1-alpha^Pyrobaculum neutrophilum@1.75018e-37**"
   ]
  },
  {
   "cell_type": "code",
   "execution_count": 5,
   "metadata": {},
   "outputs": [
    {
     "data": {
      "text/plain": [
       "'Pyrobaculum neutrophilum'"
      ]
     },
     "execution_count": 5,
     "metadata": {},
     "output_type": "execute_result"
    }
   ],
   "source": [
    "'>Neodam_TRINITY_DN9413_c0_g1_i1|m.6780@Archaea@Elongation factor 1-alpha^Pyrobaculum neutrophilum@1.75018e-37'.split('^')[1].split('@')[0]"
   ]
  },
  {
   "cell_type": "markdown",
   "metadata": {},
   "source": [
    "**8: Aşağıdaki kodu list comprehension olacak şekilde değiştiriniz.**"
   ]
  },
  {
   "cell_type": "code",
   "execution_count": 14,
   "metadata": {},
   "outputs": [
    {
     "name": "stdout",
     "output_type": "stream",
     "text": [
      "NP_001191615.1@@NP_001191615.1\n",
      "NP_571131.1@@NP_571131.1\n",
      "XP_014388588.1@@XP_002920166.1\n",
      "XP_011213888.1@@XP_014388588.1\n",
      "XP_015485235.1@@XP_011213888.1\n"
     ]
    }
   ],
   "source": [
    "for x, y in zip(ncbi_list1, ncbi_list2):\n",
    "    print(x + '@@' + y)"
   ]
  },
  {
   "cell_type": "code",
   "execution_count": 15,
   "metadata": {},
   "outputs": [
    {
     "name": "stdout",
     "output_type": "stream",
     "text": [
      "NP_001191615.1@@NP_001191615.1\n",
      "NP_571131.1@@NP_571131.1\n",
      "XP_014388588.1@@XP_002920166.1\n",
      "XP_011213888.1@@XP_014388588.1\n",
      "XP_015485235.1@@XP_011213888.1\n"
     ]
    },
    {
     "data": {
      "text/plain": [
       "[None, None, None, None, None]"
      ]
     },
     "execution_count": 15,
     "metadata": {},
     "output_type": "execute_result"
    }
   ],
   "source": [
    "[print(x + '@@' + y) for x,y in zip(ncbi_list1, ncbi_list2)]"
   ]
  },
  {
   "cell_type": "markdown",
   "metadata": {},
   "source": [
    "**9: TAA'nın bütün alt dizelerinin pozisyonlarını verilen dizi içerisinden yazdırınız: ATGCTAGCTATAACGTAGCTATAAAGTACAGTAGCTAAGTACATAA**"
   ]
  },
  {
   "cell_type": "code",
   "execution_count": 7,
   "metadata": {},
   "outputs": [
    {
     "data": {
      "text/plain": [
       "[10, 21, 35, 43]"
      ]
     },
     "execution_count": 7,
     "metadata": {},
     "output_type": "execute_result"
    }
   ],
   "source": [
    "import re\n",
    "[pos.start() for pos in re.finditer('TAA', 'ATGCTAGCTATAACGTAGCTATAAAGTACAGTAGCTAAGTACATAA')]\n"
   ]
  },
  {
   "cell_type": "markdown",
   "metadata": {},
   "source": [
    "**10: ncbi_list1'i ncbi_list1_copy isimli yeni bir değişken olarak kopyalayınız. Bir kopyasını elde ettiğinizden emin olun! ncbi_list1 içerisinden 1 ögeyi değiştirin ve bu değişikligin diger değişkenimizi etkileyip etkilemediğini kontrol edin.**"
   ]
  },
  {
   "cell_type": "code",
   "execution_count": 21,
   "metadata": {},
   "outputs": [
    {
     "name": "stdout",
     "output_type": "stream",
     "text": [
      "['NP_001191615.1', 'NP_571131.1', 'XP_014388588.1', 'XP_011213888.1', 'XP_015485235.1']\n",
      "['jahody', 'NP_571131.1', 'XP_014388588.1', 'XP_011213888.1', 'XP_015485235.1']\n"
     ]
    }
   ],
   "source": [
    "ncbi_list1_copy = ncbi_list1[:]\n",
    "ncbi_list1[0] = 'jahody'\n",
    "print(ncbi_list1_copy)\n",
    "print(ncbi_list1)"
   ]
  }
 ],
 "metadata": {
  "kernelspec": {
   "display_name": "Python 3",
   "language": "python",
   "name": "python3"
  },
  "language_info": {
   "codemirror_mode": {
    "name": "ipython",
    "version": 3
   },
   "file_extension": ".py",
   "mimetype": "text/x-python",
   "name": "python",
   "nbconvert_exporter": "python",
   "pygments_lexer": "ipython3",
   "version": "3.7.3"
  }
 },
 "nbformat": 4,
 "nbformat_minor": 4
}
