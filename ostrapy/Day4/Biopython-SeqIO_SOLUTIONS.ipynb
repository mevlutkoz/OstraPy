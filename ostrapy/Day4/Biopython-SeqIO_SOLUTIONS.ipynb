{
 "cells": [
  {
   "cell_type": "markdown",
   "metadata": {},
   "source": [
    "**1: rab20.fasta isimli dosyadaki her bir dizinin ismini yazdırınız.**"
   ]
  },
  {
   "cell_type": "code",
   "execution_count": null,
   "metadata": {},
   "outputs": [],
   "source": [
    "from Bio import SeqIO\n",
    "\n",
    "for record in SeqIO.parse('rab20.fasta', 'fasta'):\n",
    "    print(record.name)"
   ]
  },
  {
   "cell_type": "markdown",
   "metadata": {},
   "source": [
    "**2: rab20.fasta isimli dosyadaki her bir diziyi yazdırınız.**"
   ]
  },
  {
   "cell_type": "code",
   "execution_count": null,
   "metadata": {},
   "outputs": [],
   "source": [
    "from Bio import SeqIO\n",
    "\n",
    "for record in SeqIO.parse('rab20.fasta', 'fasta'):\n",
    "    print(record.seq)"
   ]
  },
  {
   "cell_type": "markdown",
   "metadata": {},
   "source": [
    "**3: rab20.fasta içindeki her bir dizi için result_names.txt isimli dosyaya isim yazdırınız, her bir satırda bir isim olmalı.**"
   ]
  },
  {
   "cell_type": "code",
   "execution_count": null,
   "metadata": {},
   "outputs": [],
   "source": [
    "from Bio import SeqIO\n",
    "\n",
    "with open('result_names', 'w') as result:\n",
    "    for record in SeqIO.parse('rab20_ncbi.fasta', 'fasta'):\n",
    "        result.write(record.name + '\\n')"
   ]
  },
  {
   "cell_type": "markdown",
   "metadata": {},
   "source": [
    "**4: rab20_ncbi.fasta isimli dosyada 230 aa'dan büyük kaç dizi vardır, bunların isimlerini bir listeye gönderip listeyi yazdırınız.** "
   ]
  },
  {
   "cell_type": "code",
   "execution_count": null,
   "metadata": {},
   "outputs": [],
   "source": [
    "from Bio import SeqIO\n",
    "\n",
    "result_list = []\n",
    "for record in SeqIO.parse('rab20_ncbi.fasta', 'fasta'):\n",
    "    if len(record.seq) > 230:\n",
    "        result_list.append(record.id)\n",
    "        \n",
    "print(len(result_list))"
   ]
  },
  {
   "cell_type": "code",
   "execution_count": null,
   "metadata": {},
   "outputs": [],
   "source": [
    "# or this\n",
    "from Bio import SeqIO\n",
    "print(len([record.id for record in SeqIO.parse(\n",
    "    'rab20_ncbi.fasta', 'fasta')if len(record.seq) > 230]))"
   ]
  },
  {
   "cell_type": "markdown",
   "metadata": {},
   "source": [
    "**5: Dizilerden oluşan bir sözlük oluşturunuz ve dizi isimlerini key olarak kullanınız.**"
   ]
  },
  {
   "cell_type": "code",
   "execution_count": null,
   "metadata": {},
   "outputs": [],
   "source": [
    "from Bio import SeqIO\n",
    "\n",
    "sequence_dict = {}\n",
    "\n",
    "for sequence in SeqIO.parse('rab20_ncbi.fasta', 'fasta'):\n",
    "    sequence_dict[sequence.desciption] = sequence.seq"
   ]
  }
 ],
 "metadata": {
  "kernelspec": {
   "display_name": "Python 3",
   "language": "python",
   "name": "python3"
  },
  "language_info": {
   "codemirror_mode": {
    "name": "ipython",
    "version": 3
   },
   "file_extension": ".py",
   "mimetype": "text/x-python",
   "name": "python",
   "nbconvert_exporter": "python",
   "pygments_lexer": "ipython3",
   "version": "3.7.3"
  }
 },
 "nbformat": 4,
 "nbformat_minor": 4
}
