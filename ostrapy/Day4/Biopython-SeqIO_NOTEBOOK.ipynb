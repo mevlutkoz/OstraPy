{
 "cells": [
  {
   "cell_type": "markdown",
   "metadata": {},
   "source": [
    "# Biopython - Python tools for Computational Molecular Biology\n",
    "\n",
    "More information: http://biopython.org/wiki/SeqIO"
   ]
  },
  {
   "cell_type": "markdown",
   "metadata": {},
   "source": [
    "## SeqIO  - Sequence Input/Output\n",
    "\n",
    "More information: http://biopython.org/wiki/SeqIO"
   ]
  },
  {
   "cell_type": "markdown",
   "metadata": {},
   "source": [
    "### SeqIO için temel kullanım"
   ]
  },
  {
   "cell_type": "code",
   "execution_count": null,
   "metadata": {},
   "outputs": [],
   "source": [
    "from Bio import SeqIO\n",
    "\n",
    "# SeqIO.read fonksiyonu sadece tek dizili dosyalar için kullanılabilir\n",
    "record = SeqIO.read('one_seq_prot.fasta', 'fasta')"
   ]
  },
  {
   "cell_type": "code",
   "execution_count": null,
   "metadata": {},
   "outputs": [],
   "source": [
    "type(record)"
   ]
  },
  {
   "cell_type": "code",
   "execution_count": null,
   "metadata": {},
   "outputs": [],
   "source": [
    "# Fonksiyonun tüm metod ve niteliklerini yazdırmak için(method-attributes)\n",
    "dir(record)"
   ]
  },
  {
   "cell_type": "code",
   "execution_count": null,
   "metadata": {},
   "outputs": [],
   "source": [
    "print(record)"
   ]
  },
  {
   "cell_type": "code",
   "execution_count": null,
   "metadata": {},
   "outputs": [],
   "source": [
    "record.id"
   ]
  },
  {
   "cell_type": "code",
   "execution_count": null,
   "metadata": {},
   "outputs": [],
   "source": [
    "record.seq"
   ]
  },
  {
   "cell_type": "code",
   "execution_count": null,
   "metadata": {},
   "outputs": [],
   "source": [
    "print(record.seq)"
   ]
  },
  {
   "cell_type": "code",
   "execution_count": null,
   "metadata": {},
   "outputs": [],
   "source": [
    "record.description"
   ]
  },
  {
   "cell_type": "code",
   "execution_count": null,
   "metadata": {},
   "outputs": [],
   "source": [
    "record = SeqIO.read('one_seq_nucl.fasta', 'fasta')"
   ]
  },
  {
   "cell_type": "code",
   "execution_count": null,
   "metadata": {},
   "outputs": [],
   "source": [
    "print(record.seq)"
   ]
  },
  {
   "cell_type": "code",
   "execution_count": null,
   "metadata": {},
   "outputs": [],
   "source": [
    "# Reverse complement zinciri bulmak için teknik\n",
    "print(str(record.reverse_complement()))"
   ]
  },
  {
   "cell_type": "code",
   "execution_count": null,
   "metadata": {},
   "outputs": [],
   "source": [
    "# SeqIO.parse eğer dosyamız da birden fazla dizi var ise bu fonksiyonu kullanırız.\n",
    "records = SeqIO.parse('rab20.fasta', 'fasta')"
   ]
  },
  {
   "cell_type": "code",
   "execution_count": null,
   "metadata": {},
   "outputs": [],
   "source": [
    "# Tüm nesneleri yazdırmak için\n",
    "for record in records:\n",
    "    print(record)"
   ]
  },
  {
   "cell_type": "code",
   "execution_count": null,
   "metadata": {},
   "outputs": [],
   "source": [
    "# Tüm IDs'leri yazdırmak için kullanırız ama çalışmadı neden?\n",
    "for record in records:\n",
    "    print(record.id)\n",
    "\n",
    "# Verimizi tekrar yüklememiz gerekiyor! Nesne kaydetme operatörleri generator olarak görev görür!!    "
   ]
  },
  {
   "cell_type": "code",
   "execution_count": null,
   "metadata": {},
   "outputs": [],
   "source": [
    "records = SeqIO.parse('rab20.fasta', 'fasta')\n",
    "for record in records:\n",
    "    print(record.id)"
   ]
  },
  {
   "cell_type": "code",
   "execution_count": null,
   "metadata": {},
   "outputs": [],
   "source": [
    "# Eğer sadece tek bir dizi ile çalışıyorsak next fonksiyonunu kullanabiliriz.\n",
    "record = next(records)"
   ]
  },
  {
   "cell_type": "code",
   "execution_count": null,
   "metadata": {},
   "outputs": [],
   "source": [
    "record.description"
   ]
  },
  {
   "cell_type": "code",
   "execution_count": null,
   "metadata": {},
   "outputs": [],
   "source": [
    "records = SeqIO.parse('rab20.fasta', 'fasta')\n",
    "record = list(records)[0]"
   ]
  },
  {
   "cell_type": "code",
   "execution_count": null,
   "metadata": {},
   "outputs": [],
   "source": [
    "# SeqIO.to_dict, fasta uzantılı dosyamızı sözlük biçiminde almak için kullanırız format şekli ID:dizi şeklindedir.\n",
    "from Bio import SeqIO\n",
    "record_dict = SeqIO.to_dict(SeqIO.parse('rab20.fasta', 'fasta'))"
   ]
  },
  {
   "cell_type": "code",
   "execution_count": null,
   "metadata": {},
   "outputs": [],
   "source": [
    "# SeqIO.to_dict kullanmadan fasta uzantılı dosyadan sözlük yapısı oluşturma.\n",
    "record_dict = {}\n",
    "for record in SeqIO.parse('rab20.fasta', 'fasta'):\n",
    "    record_dict[record.id] = record.seq"
   ]
  },
  {
   "cell_type": "code",
   "execution_count": null,
   "metadata": {},
   "outputs": [],
   "source": [
    "record_dict['NP_001086022.1']"
   ]
  },
  {
   "cell_type": "code",
   "execution_count": null,
   "metadata": {},
   "outputs": [],
   "source": [
    "record_dict['NP_001086022.1'].seq"
   ]
  },
  {
   "cell_type": "code",
   "execution_count": 5,
   "metadata": {},
   "outputs": [],
   "source": [
    "with open('test_out.fasta', 'w') as res:\n",
    "    for record in SeqIO.parse(\"rab20.fasta\", 'fasta'):\n",
    "        res.write(f'>{record.id}\\n{record.seq}\\n')"
   ]
  },
  {
   "cell_type": "code",
   "execution_count": 2,
   "metadata": {},
   "outputs": [],
   "source": [
    "# SeqIO.write fonksiyonunu dosyaya yazmak için kullanabiliriz ama çıktıyı manipule etme imkanımız azalır.\n",
    "from Bio import SeqIO\n",
    "sequences = SeqIO.parse('rab20.fasta', 'fasta')\n",
    "\n",
    "with open(\"test_out.fasta\", 'w') as res:\n",
    "    SeqIO.write(sequences, res, 'fasta')"
   ]
  },
  {
   "cell_type": "code",
   "execution_count": null,
   "metadata": {},
   "outputs": [],
   "source": [
    "# 230 aa'dan uzun olan dizileri bulmamızı sağlayan kod bloğu\n",
    "sequences = SeqIO.parse('rab20_ncbi.fasta', 'fasta')\n",
    "\n",
    "with open(\"longer_than_230.fasta\", 'w') as res:\n",
    "    for record in sequences:\n",
    "        if len(record.seq) > 230:\n",
    "            res.write('>{} longer than 230 \\n{}\\n'.format(record.name, record.seq))            "
   ]
  },
  {
   "cell_type": "code",
   "execution_count": null,
   "metadata": {},
   "outputs": [],
   "source": [
    "# SeqIO fonksiyonunu format dönüşüm  işlemlerinde kullanabiliriz.\n",
    "from Bio import SeqIO\n",
    "SeqIO.convert(\"cor6_6.gb\", \"genbank\", \"cor6_6.fasta\", \"fasta\")"
   ]
  }
 ],
 "metadata": {
  "kernelspec": {
   "display_name": "Python 3",
   "language": "python",
   "name": "python3"
  },
  "language_info": {
   "codemirror_mode": {
    "name": "ipython",
    "version": 3
   },
   "file_extension": ".py",
   "mimetype": "text/x-python",
   "name": "python",
   "nbconvert_exporter": "python",
   "pygments_lexer": "ipython3",
   "version": "3.7.3"
  }
 },
 "nbformat": 4,
 "nbformat_minor": 4
}
