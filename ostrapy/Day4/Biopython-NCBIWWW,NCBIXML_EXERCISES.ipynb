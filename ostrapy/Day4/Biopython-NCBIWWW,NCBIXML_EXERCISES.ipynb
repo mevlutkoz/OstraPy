{
 "cells": [
  {
   "cell_type": "markdown",
   "metadata": {},
   "source": [
    "**1:xenopus_tropicalis_rab20.fasta isimli dosyayı SeqIO kullanarak yükleyiniz. NCBIWWW.qblast kullanarak blast işlemini refseq_protein veritabanını referans alarak yapınız. Blast sonucunu xenopus_tropicalis_rab20.xml isimli dosyaya kaydediniz.**"
   ]
  },
  {
   "cell_type": "markdown",
   "metadata": {},
   "source": [
    "**2:NCBIXML.read fonksiyonunu kullanarak xenopus_tropicalis_rab20.xml isimli dosyanızı okuyunuz. Tüm eşleşmeleri yazdırınız.**"
   ]
  },
  {
   "cell_type": "markdown",
   "metadata": {},
   "source": [
    "**3:NCBIXML.read fonksiyonunu kullanarak xenopus_tropicalis_rab20.xml isimli dosyanızı okuyunuz. Eşleşmeleri evalue değeri ile yazdırınız.**"
   ]
  }
 ],
 "metadata": {
  "kernelspec": {
   "display_name": "Python 3",
   "language": "python",
   "name": "python3"
  },
  "language_info": {
   "codemirror_mode": {
    "name": "ipython",
    "version": 3
   },
   "file_extension": ".py",
   "mimetype": "text/x-python",
   "name": "python",
   "nbconvert_exporter": "python",
   "pygments_lexer": "ipython3",
   "version": "3.7.3"
  }
 },
 "nbformat": 4,
 "nbformat_minor": 4
}
