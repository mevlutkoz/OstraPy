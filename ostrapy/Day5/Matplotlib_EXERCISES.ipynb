{
 "cells": [
  {
   "cell_type": "markdown",
   "metadata": {},
   "source": [
    "**1. Verilen x ve y değerlerinden dağılım grafiği yapınız(scatter plot). Stateful ve stateles yaklaşımını kullanınız. Oluşturduğunuz grafik title, xlabel, ylabel ve grid içermelidir. Grafiği verilen formatta kaydediniz : my_plot.pdf..**"
   ]
  },
  {
   "cell_type": "code",
   "execution_count": 3,
   "metadata": {},
   "outputs": [],
   "source": [
    "x = [1,2,3,4,5,7,8,9,10,11]\n",
    "y = [1,3,5,8,1,6,3,6,8,9]"
   ]
  },
  {
   "cell_type": "markdown",
   "metadata": {},
   "source": [
    "**2. (x1,y1,x2,y2) değerlerini kullanarak ex2.pdf dosyasının içindeki gibi grafik yapmayı deneyiniz.**"
   ]
  },
  {
   "cell_type": "code",
   "execution_count": 35,
   "metadata": {},
   "outputs": [],
   "source": [
    "x1 = [1,2,3,4,5,7,8,9,10,11]\n",
    "y1 = [1,3,5,8,1,6,3,6,8,9]\n",
    "x2a = [1, 0, 2, 4, 6]\n",
    "x2b = [1, 2, 3, 3, 4]"
   ]
  }
 ],
 "metadata": {
  "kernelspec": {
   "display_name": "Python 3",
   "language": "python",
   "name": "python3"
  },
  "language_info": {
   "codemirror_mode": {
    "name": "ipython",
    "version": 3
   },
   "file_extension": ".py",
   "mimetype": "text/x-python",
   "name": "python",
   "nbconvert_exporter": "python",
   "pygments_lexer": "ipython3",
   "version": "3.7.3"
  }
 },
 "nbformat": 4,
 "nbformat_minor": 4
}
