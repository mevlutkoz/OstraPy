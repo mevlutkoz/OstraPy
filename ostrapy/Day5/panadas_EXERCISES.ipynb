{
 "cells": [
  {
   "cell_type": "markdown",
   "metadata": {},
   "source": [
    "**1. 'titanic.csv' isimli veriyi pd.DataFrame olarak import edin ve ilk 5 satıra bakın.**"
   ]
  },
  {
   "cell_type": "markdown",
   "metadata": {},
   "source": [
    "**2. Pclass 3'e ait kaç yolcu var?**"
   ]
  },
  {
   "cell_type": "markdown",
   "metadata": {},
   "source": [
    "**2.1 Pclass 3,2,1 için ortalama yaş nedir?**"
   ]
  },
  {
   "cell_type": "markdown",
   "metadata": {},
   "source": [
    "**3. Pclass 3'ten kaç kişi hayatta kalmıştır?**"
   ]
  },
  {
   "cell_type": "markdown",
   "metadata": {},
   "source": [
    "**4. Sadece Pclass ve Survived içeren ilk 5 satırı seçiniz.**"
   ]
  },
  {
   "cell_type": "markdown",
   "metadata": {},
   "source": [
    "**5. Bir şeklin içine 4 tane grafik çiziniz(2x2). Hayatta kalan ya da ölen bayanlar için yaş dağılımı çizdirin, aynı şeyi erkekler için de yapınız.Na değerleri atınız.**\""
   ]
  },
  {
   "cell_type": "markdown",
   "metadata": {},
   "source": [
    "**6.  Groupby metodunu kullanarak Pclasslar içerisinde ne kadar hayatta kalma ne kadar ölüm var yüzdelik olarak bulunuz.Sonucu yeni bir değişkene tablo olarak atayınız.**"
   ]
  },
  {
   "cell_type": "markdown",
   "metadata": {},
   "source": [
    "\n",
    "**7. Farklı Pclasslar için hayatta kalma oranını çizdiriniz(bar plot). Grafiğe ylabel,xlabel ve title veriniz ama legend eklemeyiniz.**"
   ]
  }
 ],
 "metadata": {
  "kernelspec": {
   "display_name": "Python 3",
   "language": "python",
   "name": "python3"
  },
  "language_info": {
   "codemirror_mode": {
    "name": "ipython",
    "version": 3
   },
   "file_extension": ".py",
   "mimetype": "text/x-python",
   "name": "python",
   "nbconvert_exporter": "python",
   "pygments_lexer": "ipython3",
   "version": "3.7.3"
  }
 },
 "nbformat": 4,
 "nbformat_minor": 4
}
